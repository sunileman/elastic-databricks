{
 "cells": [
  {
   "cell_type": "markdown",
   "metadata": {
    "application/vnd.databricks.v1+cell": {
     "cellMetadata": {},
     "inputWidgets": {},
     "nuid": "96816ed7-b08a-4ca3-abb9-f99880c3535d",
     "showTitle": false,
     "title": ""
    }
   },
   "source": [
    "This notebook shows you how to ingest into ElasticSearch Service (Cloud) from a Spark DataFrame loaded from data stored in Azure Blob storage."
   ]
  },
  {
   "cell_type": "markdown",
   "metadata": {
    "application/vnd.databricks.v1+cell": {
     "cellMetadata": {},
     "inputWidgets": {},
     "nuid": "84d079e4-93e8-460d-9d95-54a3fa326ca1",
     "showTitle": false,
     "title": ""
    }
   },
   "source": [
    "### Step 1: Set storage account name and access key"
   ]
  },
  {
   "cell_type": "code",
   "execution_count": 0,
   "metadata": {
    "application/vnd.databricks.v1+cell": {
     "cellMetadata": {
      "byteLimit": 2048000,
      "rowLimit": 10000
     },
     "inputWidgets": {},
     "nuid": "c760fc54-dbf0-4715-8df6-8fdff699c029",
     "showTitle": false,
     "title": ""
    }
   },
   "outputs": [],
   "source": [
    "storage_account_name = \"<Storage Account Name>\"\n",
    "storage_account_access_key = \"<Storage Access Key>\""
   ]
  },
  {
   "cell_type": "markdown",
   "metadata": {
    "application/vnd.databricks.v1+cell": {
     "cellMetadata": {},
     "inputWidgets": {},
     "nuid": "97a01552-8cb9-4ed7-bc18-a04bda01f6ce",
     "showTitle": false,
     "title": ""
    }
   },
   "source": [
    "### Step 2: Set file(s) location and type"
   ]
  },
  {
   "cell_type": "code",
   "execution_count": 0,
   "metadata": {
    "application/vnd.databricks.v1+cell": {
     "cellMetadata": {
      "byteLimit": 2048000,
      "rowLimit": 10000
     },
     "inputWidgets": {},
     "nuid": "6482be4c-f067-47c9-b0ac-35c938b94601",
     "showTitle": false,
     "title": ""
    }
   },
   "outputs": [],
   "source": [
    "file_location = \"<Storage Conatiner Name>@<storage Account Name>.blob.core.windows.net\"\n",
    "file_type = \"json\" #or any other type. Ie csv"
   ]
  },
  {
   "cell_type": "markdown",
   "metadata": {
    "application/vnd.databricks.v1+cell": {
     "cellMetadata": {},
     "inputWidgets": {},
     "nuid": "5080bf3a-6e4c-4bd9-9af5-2097f15ed6d6",
     "showTitle": false,
     "title": ""
    }
   },
   "source": [
    "### Step 3: Set spark confg"
   ]
  },
  {
   "cell_type": "code",
   "execution_count": 0,
   "metadata": {
    "application/vnd.databricks.v1+cell": {
     "cellMetadata": {
      "byteLimit": 2048000,
      "rowLimit": 10000
     },
     "inputWidgets": {},
     "nuid": "8acc0dda-69e3-4817-bf5d-450562afe113",
     "showTitle": false,
     "title": ""
    }
   },
   "outputs": [],
   "source": [
    "spark.conf.set(\n",
    "  \"fs.azure.account.key.\"+storage_account_name+\".blob.core.windows.net\",\n",
    "  storage_account_access_key)"
   ]
  },
  {
   "cell_type": "markdown",
   "metadata": {
    "application/vnd.databricks.v1+cell": {
     "cellMetadata": {},
     "inputWidgets": {},
     "nuid": "ac7c9c0c-3189-492b-ad3e-9e1bddfa87a6",
     "showTitle": false,
     "title": ""
    }
   },
   "source": [
    "### Step 4: Build a dataframe from files on Azure Blob storage"
   ]
  },
  {
   "cell_type": "code",
   "execution_count": 0,
   "metadata": {
    "application/vnd.databricks.v1+cell": {
     "cellMetadata": {
      "byteLimit": 2048000,
      "rowLimit": 10000
     },
     "inputWidgets": {},
     "nuid": "1f9e19dd-6d07-4de0-a281-0f2dd90cce4a",
     "showTitle": false,
     "title": ""
    }
   },
   "outputs": [],
   "source": [
    "df = spark.read.format(file_type).option(\"inferSchema\", \"true\").load(\"wasbs://<storage container name>@<storage account name>.blob.core.windows.net/path/to/file.json\")"
   ]
  },
  {
   "cell_type": "markdown",
   "metadata": {
    "application/vnd.databricks.v1+cell": {
     "cellMetadata": {},
     "inputWidgets": {},
     "nuid": "ad29249e-d6ed-43f3-98b0-cf2a6fd96e46",
     "showTitle": false,
     "title": ""
    }
   },
   "source": [
    "### Step 5: Load ElasticSearch Service (Cloud) from dataframe"
   ]
  },
  {
   "cell_type": "code",
   "execution_count": 0,
   "metadata": {
    "application/vnd.databricks.v1+cell": {
     "cellMetadata": {},
     "inputWidgets": {},
     "nuid": "a3e8533b-5259-4f4c-934f-12a5c35e4f47",
     "showTitle": false,
     "title": ""
    }
   },
   "outputs": [],
   "source": [
    "df.write.format(\"org.elasticsearch.spark.sql\")\\\n",
    "  .option(\"es.resource\", \"my-es-index\")\\\n",
    "  .option(\"es.nodes\", \"https://my-ess-cloud-endpoint\")\\\n",
    "  .option(\"es.port\", \"9243\")\\\n",
    "  .option(\"es.nodes.wan.only\",\"true\")\\\n",
    "  .option(\"es.net.http.auth.user\", \"<ess user name\")\\\n",
    "  .option(\"es.net.http.auth.pass\", \"ess password\")\\\n",
    "  .option( \"es.batch.size.entries\", \"5000\")\\\n",
    "  .option( \"es.batch.size.bytes\", \"5mb\")\\\n",
    "  .mode(\"append\")\\\n",
    "  .save()"
   ]
  }
 ],
 "metadata": {
  "application/vnd.databricks.v1+notebook": {
   "dashboards": [],
   "language": "python",
   "notebookMetadata": {
    "pythonIndentUnit": 2
   },
   "notebookName": "Load ESS From Azure DataBricks Spark",
   "widgets": {}
  }
 },
 "nbformat": 4,
 "nbformat_minor": 0
}
